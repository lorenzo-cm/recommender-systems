{
 "cells": [
  {
   "cell_type": "code",
   "execution_count": 2,
   "metadata": {},
   "outputs": [],
   "source": [
    "import numpy as np\n",
    "import pandas as pd"
   ]
  },
  {
   "cell_type": "code",
   "execution_count": 3,
   "metadata": {},
   "outputs": [],
   "source": [
    "df = pd.read_csv('ratings.csv')\n",
    "targets = pd.read_csv('targets.csv')\n",
    "df[['User', 'Item']] = df['UserId:ItemId'].str.split(':', expand=True)\n",
    "targets[['User', 'Item']] = targets['UserId:ItemId'].str.split(':', expand=True)"
   ]
  },
  {
   "cell_type": "code",
   "execution_count": 6,
   "metadata": {},
   "outputs": [],
   "source": [
    "users = df['User'].unique()\n",
    "items = df['Item'].unique()"
   ]
  },
  {
   "cell_type": "code",
   "execution_count": 7,
   "metadata": {},
   "outputs": [],
   "source": [
    "import time\n",
    "def log_time(f):\n",
    "    def wrapper(*args, **kwargs):\n",
    "        a = time.time()\n",
    "        ret = f(*args, **kwargs)\n",
    "        b = time.time()\n",
    "        print(f'time in {f.__name__}: {b-a}')\n",
    "        return ret\n",
    "    return wrapper"
   ]
  },
  {
   "cell_type": "code",
   "execution_count": 8,
   "metadata": {},
   "outputs": [],
   "source": [
    "def search_ratings_item_id(item_id):\n",
    "    return np.array(df[df['Item'] == item_id]['Rating'])"
   ]
  },
  {
   "cell_type": "code",
   "execution_count": 9,
   "metadata": {},
   "outputs": [],
   "source": [
    "def search_ratings_user_id(user_id):\n",
    "    return np.array(df[df['User'] == user_id]['Rating'])"
   ]
  },
  {
   "cell_type": "code",
   "execution_count": 10,
   "metadata": {},
   "outputs": [],
   "source": [
    "def get_users_from_item_id(item_id):\n",
    "    return np.array(df[df['Item'] == item_id]['User'])"
   ]
  },
  {
   "cell_type": "code",
   "execution_count": 11,
   "metadata": {},
   "outputs": [],
   "source": [
    "def get_items_from_user_id(user_id):\n",
    "    return list(df[df['User'] == user_id]['Item'])"
   ]
  },
  {
   "cell_type": "code",
   "execution_count": 12,
   "metadata": {},
   "outputs": [],
   "source": [
    "def check_item_rating_by_user(item_id, user_id) -> int:\n",
    "    aux_df = df[(df['Item'] == item_id) & (df['User'] == user_id)]\n",
    "    if len(aux_df) > 0:\n",
    "        return int(aux_df['Rating'])\n",
    "    else:\n",
    "        return search_ratings_user_id(user_id).mean()"
   ]
  },
  {
   "cell_type": "code",
   "execution_count": 13,
   "metadata": {},
   "outputs": [],
   "source": [
    "def check_item_ratings_by_users(item_id, users):\n",
    "    ratings = []\n",
    "    for u in users:\n",
    "        ratings.append(check_item_rating_by_user(item_id, u))\n",
    "    return ratings"
   ]
  },
  {
   "cell_type": "code",
   "execution_count": 14,
   "metadata": {},
   "outputs": [],
   "source": [
    "def get_common_users_from_item_id(item_id, item_id2):\n",
    "    a1 = get_users_from_item_id(item_id)\n",
    "    a2 = get_users_from_item_id(item_id2)\n",
    "\n",
    "    return [e for e in a1 if e in a2]"
   ]
  },
  {
   "cell_type": "code",
   "execution_count": 15,
   "metadata": {},
   "outputs": [],
   "source": [
    "def get_items_from_users(users:list):\n",
    "    items = []\n",
    "    for u in users:\n",
    "        items.extend(get_items_from_user_id(u))\n",
    "    return items"
   ]
  },
  {
   "cell_type": "code",
   "execution_count": 16,
   "metadata": {},
   "outputs": [],
   "source": [
    "def mean_item(item_id):\n",
    "    return np.mean(search_ratings_item_id(item_id))"
   ]
  },
  {
   "cell_type": "code",
   "execution_count": 37,
   "metadata": {},
   "outputs": [],
   "source": [
    "def mean_user(user_id):\n",
    "    return np.mean(search_ratings_user_id(user_id))"
   ]
  },
  {
   "cell_type": "code",
   "execution_count": 17,
   "metadata": {},
   "outputs": [],
   "source": [
    "def value_similarity(a,b,c):\n",
    "    x = (a+b-2*c)\n",
    "    if not x:\n",
    "        x += 0.5\n",
    "    return ((a**2 + b**2)/4 - c) /x**2"
   ]
  },
  {
   "cell_type": "code",
   "execution_count": 18,
   "metadata": {},
   "outputs": [],
   "source": [
    "import math\n",
    "\n",
    "def gaussian_mapping(x, mean=0, std_deviation=2.4):\n",
    "    # Calculate the CDF value for x\n",
    "    cdf_value = 0.5 * (1 + math.erf((x - mean) / (std_deviation * math.sqrt(2))))\n",
    "    \n",
    "    # Map the CDF value to the range [-1, 1]\n",
    "    mapped_value = 2 * cdf_value - 1\n",
    "    \n",
    "    # Ensure the result is within the [-1, 1] range\n",
    "    mapped_value = max(-1, min(1, mapped_value))\n",
    "    \n",
    "    if mapped_value > 0.5:\n",
    "        mapped_value = mapped_value - 0.15\n",
    "    else:\n",
    "        mapped_value = mapped_value + 0.15\n",
    "\n",
    "    return mapped_value"
   ]
  },
  {
   "cell_type": "code",
   "execution_count": 19,
   "metadata": {},
   "outputs": [],
   "source": [
    "def custom_tanh(z):\n",
    "    return 2.15 * np.tanh(z- 0.5)\n"
   ]
  },
  {
   "cell_type": "code",
   "execution_count": 20,
   "metadata": {},
   "outputs": [],
   "source": [
    "def custom_similarity(a, b, c):\n",
    "    v = value_similarity(a, b, c)\n",
    "    g = gaussian_mapping(v)\n",
    "    return custom_tanh(g)"
   ]
  },
  {
   "cell_type": "code",
   "execution_count": 21,
   "metadata": {},
   "outputs": [
    {
     "name": "stdout",
     "output_type": "stream",
     "text": [
      "4.25 0.7734115789040786 0.573612370722538\n"
     ]
    }
   ],
   "source": [
    "a = 2\n",
    "b = 5\n",
    "c = 3\n",
    "\n",
    "v = value_similarity(a, b, c)\n",
    "g = gaussian_mapping(v)\n",
    "m = custom_tanh(g)\n",
    "print(v, g, m)"
   ]
  },
  {
   "cell_type": "code",
   "execution_count": 22,
   "metadata": {},
   "outputs": [],
   "source": [
    "def calc_pearson(item_id1, item_id2):\n",
    "    # grab common neighbours\n",
    "    users_common = get_common_users_from_item_id(item_id1, item_id2)\n",
    "\n",
    "    # check rating of these users for the items\n",
    "    ratings_item1 = check_item_ratings_by_users(item_id1, users_common)\n",
    "    ratings_item2 = check_item_ratings_by_users(item_id2, users_common)\n",
    "\n",
    "    if len(ratings_item1) == 1:\n",
    "        c = (mean_item(item_id1) + ratings_item1[0] + ratings_item2[0] + mean_item(item_id2))/4\n",
    "        return custom_similarity(mean_item(item_id1), mean_item(item_id2), c)\n",
    "\n",
    "    # pearson\n",
    "    return np.corrcoef(ratings_item1, ratings_item2)[0][1]"
   ]
  },
  {
   "cell_type": "code",
   "execution_count": 23,
   "metadata": {},
   "outputs": [
    {
     "data": {
      "text/plain": [
       "{'8b05db84f2': 1.0,\n",
       " '39f1be0489': 0.7232074203231142,\n",
       " '8c50712c93': 0.7232074203231108,\n",
       " '1fd7a8b66f': 0.7232074203231142,\n",
       " '744cc124cb': -0.14108036900413545,\n",
       " '6b6c3e46e3': 0.014375765892817619}"
      ]
     },
     "execution_count": 23,
     "metadata": {},
     "output_type": "execute_result"
    }
   ],
   "source": [
    "item_base = items[0]\n",
    "users_of_item_base = get_users_from_item_id(item_base)\n",
    "neighbors_items = pd.Series(get_items_from_users(users_of_item_base)).unique()\n",
    "sims = {}\n",
    "for n_i in neighbors_items:\n",
    "    sims[n_i] = calc_pearson(item_base, n_i)\n",
    "sims"
   ]
  },
  {
   "cell_type": "code",
   "execution_count": 32,
   "metadata": {},
   "outputs": [],
   "source": [
    "def calc_similarity(item_id) -> dict:\n",
    "    similarities = dict()\n",
    "\n",
    "    users_of_item_base = list(set(get_users_from_item_id(item_id)))\n",
    "    neighbors_items = list(set(get_items_from_users(users_of_item_base)))\n",
    "\n",
    "    for n_i in neighbors_items:\n",
    "        similarities[n_i] = calc_pearson(item_id, n_i)\n",
    "\n",
    "    return similarities"
   ]
  },
  {
   "cell_type": "code",
   "execution_count": 25,
   "metadata": {},
   "outputs": [],
   "source": [
    "def calc_similarity_plus_new_user(item_id, user_id) -> dict:\n",
    "    similarities = dict()\n",
    "\n",
    "    users_of_item_base = list(set(get_users_from_item_id(item_id))) + [user_id]\n",
    "    neighbors_items = list(set(get_items_from_users(users_of_item_base)))\n",
    "\n",
    "    for n_i in neighbors_items:\n",
    "        similarities[n_i] = calc_pearson(item_base, n_i)\n",
    "    \n",
    "    return similarities"
   ]
  },
  {
   "cell_type": "code",
   "execution_count": 40,
   "metadata": {},
   "outputs": [],
   "source": [
    "def get_normalized_score(user_id, item_id):\n",
    "    \n",
    "    ratings = search_ratings_item_id(item_id)\n",
    "    ratings_mean = np.mean(ratings)\n",
    "    ratings_std = np.std(ratings, ddof=1) if len(ratings) > 1 else 1\n",
    "\n",
    "    if ratings_std == 0:\n",
    "        return 1\n",
    "\n",
    "    rating_user_item = check_item_rating_by_user(item_id, user_id)\n",
    "\n",
    "    return (rating_user_item - ratings_mean) / ratings_std"
   ]
  },
  {
   "cell_type": "code",
   "execution_count": 47,
   "metadata": {},
   "outputs": [],
   "source": [
    "def make_prediction(item_id, user_id):\n",
    "    similarities = calc_similarity(item_id)\n",
    "\n",
    "    ratings_user = search_ratings_user_id(user_id)\n",
    "    ratings_user_mean = np.mean(ratings_user)\n",
    "    ratings_user_std = np.std(ratings_user, ddof=1) if len(ratings_user) > 1 else 0\n",
    "\n",
    "    upper = 0\n",
    "    lower = 0\n",
    "    for i in similarities:\n",
    "        upper += similarities[i] * get_normalized_score(user_id, i)\n",
    "        lower += similarities[i]\n",
    "\n",
    "    return np.clip(ratings_user_mean + ratings_user_std * upper / lower, 0, 5)"
   ]
  },
  {
   "cell_type": "code",
   "execution_count": 42,
   "metadata": {},
   "outputs": [
    {
     "name": "stdout",
     "output_type": "stream",
     "text": [
      "8b05db84f2 4baf0ac888\n"
     ]
    },
    {
     "data": {
      "text/plain": [
       "3.4810013334396164"
      ]
     },
     "execution_count": 42,
     "metadata": {},
     "output_type": "execute_result"
    }
   ],
   "source": [
    "print(df.loc[2]['Item'], df.loc[0]['User'])\n",
    "make_prediction(df.loc[2]['Item'], df.loc[0]['User'])"
   ]
  },
  {
   "cell_type": "code",
   "execution_count": 50,
   "metadata": {},
   "outputs": [
    {
     "name": "stdout",
     "output_type": "stream",
     "text": [
      "pred: 5.0, mean_item: 4.5, mean_user: 5.0 \n",
      "pred: 5.0, mean_item: 4.5, mean_user: 5.0 \n",
      "pred: 4.4603135803355, mean_item: 4.5, mean_user: 4.5 \n",
      "pred: 5.0, mean_item: 4.5, mean_user: 5.0 \n",
      "pred: 5.0, mean_item: 4.2, mean_user: 5.0 \n",
      "pred: 5.0, mean_item: 5.0, mean_user: 5.0 \n",
      "pred: 5.0, mean_item: 4.0, mean_user: 5.0 \n",
      "pred: 5.0, mean_item: 4.5, mean_user: 4.428571428571429 \n",
      "pred: 5.0, mean_item: 4.5, mean_user: 5.0 \n",
      "pred: 5.0, mean_item: 3.5, mean_user: 5.0 \n"
     ]
    },
    {
     "name": "stderr",
     "output_type": "stream",
     "text": [
      "/home/lorenzo/.local/lib/python3.10/site-packages/numpy/lib/function_base.py:2897: RuntimeWarning: invalid value encountered in divide\n",
      "  c /= stddev[:, None]\n"
     ]
    },
    {
     "name": "stdout",
     "output_type": "stream",
     "text": [
      "pred: nan, mean_item: 5.0, mean_user: 5.0 \n",
      "pred: nan, mean_item: 5.0, mean_user: 2.0 \n",
      "pred: nan, mean_item: 5.0, mean_user: 5.0 \n",
      "pred: 4.512547051324667, mean_item: 5.0, mean_user: 4.5 \n",
      "pred: 0.0, mean_item: 5.0, mean_user: 3.0 \n",
      "pred: 0.0, mean_item: 4.857142857142857, mean_user: 3.25 \n",
      "pred: 1.0, mean_item: 4.857142857142857, mean_user: 1.0 \n",
      "pred: 4.0, mean_item: 4.857142857142857, mean_user: 4.0 \n",
      "pred: 5.0, mean_item: 4.666666666666667, mean_user: 5.0 \n"
     ]
    }
   ],
   "source": [
    "counter = 0\n",
    "for i, row in targets.iterrows():\n",
    "    counter += 1\n",
    "    if counter == 20:\n",
    "        break\n",
    "    print(f'pred: {make_prediction(row[\"Item\"], row[\"User\"])}, mean_item: {mean_item(row[\"Item\"])}, mean_user: {mean_user(row[\"User\"])} ')"
   ]
  },
  {
   "cell_type": "code",
   "execution_count": 30,
   "metadata": {},
   "outputs": [],
   "source": [
    "predictions = []\n",
    "for i, row in targets.iterrows():\n",
    "    predictions.append(make_prediction(row['Item'], row['User']))"
   ]
  }
 ],
 "metadata": {
  "kernelspec": {
   "display_name": "Python 3",
   "language": "python",
   "name": "python3"
  },
  "language_info": {
   "codemirror_mode": {
    "name": "ipython",
    "version": 3
   },
   "file_extension": ".py",
   "mimetype": "text/x-python",
   "name": "python",
   "nbconvert_exporter": "python",
   "pygments_lexer": "ipython3",
   "version": "3.10.12"
  },
  "orig_nbformat": 4
 },
 "nbformat": 4,
 "nbformat_minor": 2
}
